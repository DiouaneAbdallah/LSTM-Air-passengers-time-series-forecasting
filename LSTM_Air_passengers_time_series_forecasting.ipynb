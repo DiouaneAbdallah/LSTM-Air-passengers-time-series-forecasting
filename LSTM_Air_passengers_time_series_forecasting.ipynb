{
  "cells": [
    {
      "cell_type": "markdown",
      "source": [
        "# Airline passengers prediction"
      ],
      "metadata": {
        "id": "q3qYXmsWfiQ0"
      }
    },
    {
      "cell_type": "markdown",
      "source": [
        "In this Keras project, we will discover how to build and train a convolution neural network for predicting airline passengers."
      ],
      "metadata": {
        "id": "ogLB1lpBfRs6"
      }
    },
    {
      "cell_type": "markdown",
      "source": [
        "## Import the libraries:"
      ],
      "metadata": {
        "id": "LKhDaI6Apcr6"
      }
    },
    {
      "cell_type": "code",
      "execution_count": 1,
      "metadata": {
        "id": "am5sfrRqFyTV"
      },
      "outputs": [],
      "source": [
        "import numpy\n",
        "import matplotlib.pyplot as plt\n",
        "import pandas\n",
        "import math\n",
        "from tensorflow.keras.models import Sequential\n",
        "from tensorflow.keras.layers import Dense\n",
        "from tensorflow.keras.layers import LSTM\n",
        "from sklearn.preprocessing import MinMaxScaler\n",
        "from sklearn.metrics import mean_squared_error"
      ]
    },
    {
      "cell_type": "markdown",
      "source": [
        "## load the dataset\n"
      ],
      "metadata": {
        "id": "3PtXAX84ptAZ"
      }
    },
    {
      "cell_type": "code",
      "execution_count": 4,
      "metadata": {
        "id": "nKb79VAaFyTb"
      },
      "outputs": [],
      "source": [
        "dataframe = pandas.read_csv('international-airline-passengers.csv', usecols=[1], engine='python', skipfooter=3)\n",
        "dataset = dataframe.values\n",
        "dataset = dataset.astype('float32')"
      ]
    },
    {
      "cell_type": "code",
      "execution_count": 7,
      "metadata": {
        "colab": {
          "base_uri": "https://localhost:8080/",
          "height": 206
        },
        "id": "blZtja7jFyTc",
        "outputId": "41db11b7-22ae-4a4b-e0f5-2fe6011cadec"
      },
      "outputs": [
        {
          "output_type": "execute_result",
          "data": {
            "text/html": [
              "\n",
              "  <div id=\"df-9663581c-70b7-469f-b0cc-4f45282766a9\">\n",
              "    <div class=\"colab-df-container\">\n",
              "      <div>\n",
              "<style scoped>\n",
              "    .dataframe tbody tr th:only-of-type {\n",
              "        vertical-align: middle;\n",
              "    }\n",
              "\n",
              "    .dataframe tbody tr th {\n",
              "        vertical-align: top;\n",
              "    }\n",
              "\n",
              "    .dataframe thead th {\n",
              "        text-align: right;\n",
              "    }\n",
              "</style>\n",
              "<table border=\"1\" class=\"dataframe\">\n",
              "  <thead>\n",
              "    <tr style=\"text-align: right;\">\n",
              "      <th></th>\n",
              "      <th>International airline passengers: monthly totals in thousands. Jan 49 ? Dec 60</th>\n",
              "    </tr>\n",
              "  </thead>\n",
              "  <tbody>\n",
              "    <tr>\n",
              "      <th>0</th>\n",
              "      <td>112</td>\n",
              "    </tr>\n",
              "    <tr>\n",
              "      <th>1</th>\n",
              "      <td>118</td>\n",
              "    </tr>\n",
              "    <tr>\n",
              "      <th>2</th>\n",
              "      <td>132</td>\n",
              "    </tr>\n",
              "    <tr>\n",
              "      <th>3</th>\n",
              "      <td>129</td>\n",
              "    </tr>\n",
              "    <tr>\n",
              "      <th>4</th>\n",
              "      <td>121</td>\n",
              "    </tr>\n",
              "  </tbody>\n",
              "</table>\n",
              "</div>\n",
              "      <button class=\"colab-df-convert\" onclick=\"convertToInteractive('df-9663581c-70b7-469f-b0cc-4f45282766a9')\"\n",
              "              title=\"Convert this dataframe to an interactive table.\"\n",
              "              style=\"display:none;\">\n",
              "        \n",
              "  <svg xmlns=\"http://www.w3.org/2000/svg\" height=\"24px\"viewBox=\"0 0 24 24\"\n",
              "       width=\"24px\">\n",
              "    <path d=\"M0 0h24v24H0V0z\" fill=\"none\"/>\n",
              "    <path d=\"M18.56 5.44l.94 2.06.94-2.06 2.06-.94-2.06-.94-.94-2.06-.94 2.06-2.06.94zm-11 1L8.5 8.5l.94-2.06 2.06-.94-2.06-.94L8.5 2.5l-.94 2.06-2.06.94zm10 10l.94 2.06.94-2.06 2.06-.94-2.06-.94-.94-2.06-.94 2.06-2.06.94z\"/><path d=\"M17.41 7.96l-1.37-1.37c-.4-.4-.92-.59-1.43-.59-.52 0-1.04.2-1.43.59L10.3 9.45l-7.72 7.72c-.78.78-.78 2.05 0 2.83L4 21.41c.39.39.9.59 1.41.59.51 0 1.02-.2 1.41-.59l7.78-7.78 2.81-2.81c.8-.78.8-2.07 0-2.86zM5.41 20L4 18.59l7.72-7.72 1.47 1.35L5.41 20z\"/>\n",
              "  </svg>\n",
              "      </button>\n",
              "      \n",
              "  <style>\n",
              "    .colab-df-container {\n",
              "      display:flex;\n",
              "      flex-wrap:wrap;\n",
              "      gap: 12px;\n",
              "    }\n",
              "\n",
              "    .colab-df-convert {\n",
              "      background-color: #E8F0FE;\n",
              "      border: none;\n",
              "      border-radius: 50%;\n",
              "      cursor: pointer;\n",
              "      display: none;\n",
              "      fill: #1967D2;\n",
              "      height: 32px;\n",
              "      padding: 0 0 0 0;\n",
              "      width: 32px;\n",
              "    }\n",
              "\n",
              "    .colab-df-convert:hover {\n",
              "      background-color: #E2EBFA;\n",
              "      box-shadow: 0px 1px 2px rgba(60, 64, 67, 0.3), 0px 1px 3px 1px rgba(60, 64, 67, 0.15);\n",
              "      fill: #174EA6;\n",
              "    }\n",
              "\n",
              "    [theme=dark] .colab-df-convert {\n",
              "      background-color: #3B4455;\n",
              "      fill: #D2E3FC;\n",
              "    }\n",
              "\n",
              "    [theme=dark] .colab-df-convert:hover {\n",
              "      background-color: #434B5C;\n",
              "      box-shadow: 0px 1px 3px 1px rgba(0, 0, 0, 0.15);\n",
              "      filter: drop-shadow(0px 1px 2px rgba(0, 0, 0, 0.3));\n",
              "      fill: #FFFFFF;\n",
              "    }\n",
              "  </style>\n",
              "\n",
              "      <script>\n",
              "        const buttonEl =\n",
              "          document.querySelector('#df-9663581c-70b7-469f-b0cc-4f45282766a9 button.colab-df-convert');\n",
              "        buttonEl.style.display =\n",
              "          google.colab.kernel.accessAllowed ? 'block' : 'none';\n",
              "\n",
              "        async function convertToInteractive(key) {\n",
              "          const element = document.querySelector('#df-9663581c-70b7-469f-b0cc-4f45282766a9');\n",
              "          const dataTable =\n",
              "            await google.colab.kernel.invokeFunction('convertToInteractive',\n",
              "                                                     [key], {});\n",
              "          if (!dataTable) return;\n",
              "\n",
              "          const docLinkHtml = 'Like what you see? Visit the ' +\n",
              "            '<a target=\"_blank\" href=https://colab.research.google.com/notebooks/data_table.ipynb>data table notebook</a>'\n",
              "            + ' to learn more about interactive tables.';\n",
              "          element.innerHTML = '';\n",
              "          dataTable['output_type'] = 'display_data';\n",
              "          await google.colab.output.renderOutput(dataTable, element);\n",
              "          const docLink = document.createElement('div');\n",
              "          docLink.innerHTML = docLinkHtml;\n",
              "          element.appendChild(docLink);\n",
              "        }\n",
              "      </script>\n",
              "    </div>\n",
              "  </div>\n",
              "  "
            ],
            "text/plain": [
              "   International airline passengers: monthly totals in thousands. Jan 49 ? Dec 60\n",
              "0                                                112                             \n",
              "1                                                118                             \n",
              "2                                                132                             \n",
              "3                                                129                             \n",
              "4                                                121                             "
            ]
          },
          "metadata": {},
          "execution_count": 7
        }
      ],
      "source": [
        "dataframe.head()"
      ]
    },
    {
      "cell_type": "code",
      "execution_count": 8,
      "metadata": {
        "colab": {
          "base_uri": "https://localhost:8080/",
          "height": 265
        },
        "id": "bYaGAVoVFyTe",
        "outputId": "22f96483-930d-491e-85c0-cb920d47ec15"
      },
      "outputs": [
        {
          "output_type": "display_data",
          "data": {
            "image/png": "[encoded data removed]",
            "text/plain": [
              "<Figure size 432x288 with 1 Axes>"
            ]
          },
          "metadata": {
            "needs_background": "light"
          }
        }
      ],
      "source": [
        "plt.plot(dataset)\n",
        "plt.show()"
      ]
    },
    {
      "cell_type": "markdown",
      "source": [
        "## normalize the dataset\n"
      ],
      "metadata": {
        "id": "HBgTftmtpwtB"
      }
    },
    {
      "cell_type": "code",
      "execution_count": 9,
      "metadata": {
        "id": "R-nqkZmnFyTf"
      },
      "outputs": [],
      "source": [
        "scaler = MinMaxScaler(feature_range=(0, 1))\n",
        "dataset = scaler.fit_transform(dataset)"
      ]
    },
    {
      "cell_type": "markdown",
      "source": [
        "## split into train and test sets\n"
      ],
      "metadata": {
        "id": "pw3oIC2jpy26"
      }
    },
    {
      "cell_type": "code",
      "execution_count": 10,
      "metadata": {
        "colab": {
          "base_uri": "https://localhost:8080/"
        },
        "id": "kzwNzCxNFyTf",
        "outputId": "53985dee-5893-44d9-e06d-b77b91ba71e0"
      },
      "outputs": [
        {
          "output_type": "stream",
          "name": "stdout",
          "text": [
            "95 48\n"
          ]
        }
      ],
      "source": [
        "train_size = int(len(dataset) * 0.67)\n",
        "test_size = len(dataset) - train_size\n",
        "train, test = dataset[0:train_size,:], dataset[train_size:len(dataset),:]\n",
        "print(len(train), len(test))"
      ]
    },
    {
      "cell_type": "markdown",
      "source": [
        "## convert an array of values into a dataset matrix\n"
      ],
      "metadata": {
        "id": "Dnm_UKegp2vc"
      }
    },
    {
      "cell_type": "code",
      "execution_count": 12,
      "metadata": {
        "id": "WhXGB2tEFyTg"
      },
      "outputs": [],
      "source": [
        "def create_dataset(dataset, look_back=1):\n",
        "\tdataX, dataY = [], []\n",
        "\tfor i in range(len(dataset)-look_back-1):\n",
        "\t\tdataX.append(dataset[i:(i+look_back), 0])\n",
        "\t\tdataY.append(dataset[i + look_back, 0])\n",
        "\treturn numpy.array(dataX), numpy.array(dataY)"
      ]
    },
    {
      "cell_type": "markdown",
      "source": [
        "## reshape into X=t and Y=t+1\n"
      ],
      "metadata": {
        "id": "1gCY2wLcp5PJ"
      }
    },
    {
      "cell_type": "code",
      "execution_count": 13,
      "metadata": {
        "id": "HRklvclCFyTh"
      },
      "outputs": [],
      "source": [
        "look_back = 1\n",
        "trainX, trainY = create_dataset(train, look_back)\n",
        "testX, testY = create_dataset(test, look_back)\n"
      ]
    },
    {
      "cell_type": "code",
      "execution_count": 14,
      "metadata": {
        "colab": {
          "base_uri": "https://localhost:8080/"
        },
        "id": "Bc31Cb76FyTi",
        "outputId": "f3a3aff3-6a68-4821-9734-e3cf2d6ea209"
      },
      "outputs": [
        {
          "output_type": "execute_result",
          "data": {
            "text/plain": [
              "(93, 1)"
            ]
          },
          "metadata": {},
          "execution_count": 14
        }
      ],
      "source": [
        "trainX.shape"
      ]
    },
    {
      "cell_type": "code",
      "execution_count": 15,
      "metadata": {
        "colab": {
          "base_uri": "https://localhost:8080/"
        },
        "id": "OpWae5xKFyTj",
        "outputId": "7f346876-1213-4158-c640-87503c6bc439"
      },
      "outputs": [
        {
          "output_type": "execute_result",
          "data": {
            "text/plain": [
              "93"
            ]
          },
          "metadata": {},
          "execution_count": 15
        }
      ],
      "source": [
        "trainY.size"
      ]
    },
    {
      "cell_type": "markdown",
      "source": [
        "## reshape input to be [samples, time steps, features]\n"
      ],
      "metadata": {
        "id": "hQiBvvhmqQN8"
      }
    },
    {
      "cell_type": "code",
      "execution_count": 16,
      "metadata": {
        "id": "i-8wpiqOFyTk"
      },
      "outputs": [],
      "source": [
        "trainX = numpy.reshape(trainX, (trainX.shape[0], 1, trainX.shape[1]))\n",
        "testX = numpy.reshape(testX, (testX.shape[0], 1, testX.shape[1]))\n"
      ]
    },
    {
      "cell_type": "markdown",
      "source": [
        "## building and training the model"
      ],
      "metadata": {
        "id": "ex6dhsy7qXdS"
      }
    },
    {
      "cell_type": "code",
      "execution_count": 17,
      "metadata": {
        "colab": {
          "base_uri": "https://localhost:8080/"
        },
        "id": "8OYcXYhfFyTl",
        "outputId": "51fc43d3-25e2-4d32-b08b-6ebcc43a5ad8"
      },
      "outputs": [
        {
          "output_type": "stream",
          "name": "stdout",
          "text": [
            "Epoch 1/100\n",
            "93/93 - 5s - loss: 0.0662 - 5s/epoch - 52ms/step\n",
            "Epoch 2/100\n",
            "93/93 - 0s - loss: 0.0339 - 193ms/epoch - 2ms/step\n",
            "Epoch 3/100\n",
            "93/93 - 0s - loss: 0.0255 - 200ms/epoch - 2ms/step\n",
            "Epoch 4/100\n",
            "93/93 - 0s - loss: 0.0228 - 195ms/epoch - 2ms/step\n",
            "Epoch 5/100\n",
            "93/93 - 0s - loss: 0.0213 - 200ms/epoch - 2ms/step\n",
            "Epoch 6/100\n",
            "93/93 - 0s - loss: 0.0202 - 191ms/epoch - 2ms/step\n",
            "Epoch 7/100\n",
            "93/93 - 0s - loss: 0.0191 - 205ms/epoch - 2ms/step\n",
            "Epoch 8/100\n",
            "93/93 - 0s - loss: 0.0181 - 190ms/epoch - 2ms/step\n",
            "Epoch 9/100\n",
            "93/93 - 0s - loss: 0.0171 - 197ms/epoch - 2ms/step\n",
            "Epoch 10/100\n",
            "93/93 - 0s - loss: 0.0162 - 202ms/epoch - 2ms/step\n",
            "Epoch 11/100\n",
            "93/93 - 0s - loss: 0.0152 - 191ms/epoch - 2ms/step\n",
            "Epoch 12/100\n",
            "93/93 - 0s - loss: 0.0143 - 201ms/epoch - 2ms/step\n",
            "Epoch 13/100\n",
            "93/93 - 0s - loss: 0.0134 - 194ms/epoch - 2ms/step\n",
            "Epoch 14/100\n",
            "93/93 - 0s - loss: 0.0125 - 200ms/epoch - 2ms/step\n",
            "Epoch 15/100\n",
            "93/93 - 0s - loss: 0.0116 - 193ms/epoch - 2ms/step\n",
            "Epoch 16/100\n",
            "93/93 - 0s - loss: 0.0106 - 195ms/epoch - 2ms/step\n",
            "Epoch 17/100\n",
            "93/93 - 0s - loss: 0.0098 - 202ms/epoch - 2ms/step\n",
            "Epoch 18/100\n",
            "93/93 - 0s - loss: 0.0089 - 192ms/epoch - 2ms/step\n",
            "Epoch 19/100\n",
            "93/93 - 0s - loss: 0.0081 - 202ms/epoch - 2ms/step\n",
            "Epoch 20/100\n",
            "93/93 - 0s - loss: 0.0073 - 221ms/epoch - 2ms/step\n",
            "Epoch 21/100\n",
            "93/93 - 0s - loss: 0.0065 - 191ms/epoch - 2ms/step\n",
            "Epoch 22/100\n",
            "93/93 - 0s - loss: 0.0058 - 202ms/epoch - 2ms/step\n",
            "Epoch 23/100\n",
            "93/93 - 0s - loss: 0.0052 - 186ms/epoch - 2ms/step\n",
            "Epoch 24/100\n",
            "93/93 - 0s - loss: 0.0046 - 197ms/epoch - 2ms/step\n",
            "Epoch 25/100\n",
            "93/93 - 0s - loss: 0.0041 - 199ms/epoch - 2ms/step\n",
            "Epoch 26/100\n",
            "93/93 - 0s - loss: 0.0037 - 194ms/epoch - 2ms/step\n",
            "Epoch 27/100\n",
            "93/93 - 0s - loss: 0.0033 - 218ms/epoch - 2ms/step\n",
            "Epoch 28/100\n",
            "93/93 - 0s - loss: 0.0030 - 207ms/epoch - 2ms/step\n",
            "Epoch 29/100\n",
            "93/93 - 0s - loss: 0.0027 - 200ms/epoch - 2ms/step\n",
            "Epoch 30/100\n",
            "93/93 - 0s - loss: 0.0025 - 192ms/epoch - 2ms/step\n",
            "Epoch 31/100\n",
            "93/93 - 0s - loss: 0.0023 - 198ms/epoch - 2ms/step\n",
            "Epoch 32/100\n",
            "93/93 - 0s - loss: 0.0022 - 201ms/epoch - 2ms/step\n",
            "Epoch 33/100\n",
            "93/93 - 0s - loss: 0.0021 - 191ms/epoch - 2ms/step\n",
            "Epoch 34/100\n",
            "93/93 - 0s - loss: 0.0021 - 201ms/epoch - 2ms/step\n",
            "Epoch 35/100\n",
            "93/93 - 0s - loss: 0.0020 - 195ms/epoch - 2ms/step\n",
            "Epoch 36/100\n",
            "93/93 - 0s - loss: 0.0020 - 198ms/epoch - 2ms/step\n",
            "Epoch 37/100\n",
            "93/93 - 0s - loss: 0.0020 - 202ms/epoch - 2ms/step\n",
            "Epoch 38/100\n",
            "93/93 - 0s - loss: 0.0019 - 198ms/epoch - 2ms/step\n",
            "Epoch 39/100\n",
            "93/93 - 0s - loss: 0.0020 - 205ms/epoch - 2ms/step\n",
            "Epoch 40/100\n",
            "93/93 - 0s - loss: 0.0019 - 195ms/epoch - 2ms/step\n",
            "Epoch 41/100\n",
            "93/93 - 0s - loss: 0.0020 - 194ms/epoch - 2ms/step\n",
            "Epoch 42/100\n",
            "93/93 - 0s - loss: 0.0019 - 200ms/epoch - 2ms/step\n",
            "Epoch 43/100\n",
            "93/93 - 0s - loss: 0.0019 - 190ms/epoch - 2ms/step\n",
            "Epoch 44/100\n",
            "93/93 - 0s - loss: 0.0020 - 205ms/epoch - 2ms/step\n",
            "Epoch 45/100\n",
            "93/93 - 0s - loss: 0.0020 - 199ms/epoch - 2ms/step\n",
            "Epoch 46/100\n",
            "93/93 - 0s - loss: 0.0019 - 195ms/epoch - 2ms/step\n",
            "Epoch 47/100\n",
            "93/93 - 0s - loss: 0.0020 - 206ms/epoch - 2ms/step\n",
            "Epoch 48/100\n",
            "93/93 - 0s - loss: 0.0019 - 192ms/epoch - 2ms/step\n",
            "Epoch 49/100\n",
            "93/93 - 0s - loss: 0.0020 - 207ms/epoch - 2ms/step\n",
            "Epoch 50/100\n",
            "93/93 - 0s - loss: 0.0019 - 196ms/epoch - 2ms/step\n",
            "Epoch 51/100\n",
            "93/93 - 0s - loss: 0.0020 - 193ms/epoch - 2ms/step\n",
            "Epoch 52/100\n",
            "93/93 - 0s - loss: 0.0020 - 204ms/epoch - 2ms/step\n",
            "Epoch 53/100\n",
            "93/93 - 0s - loss: 0.0019 - 203ms/epoch - 2ms/step\n",
            "Epoch 54/100\n",
            "93/93 - 0s - loss: 0.0020 - 195ms/epoch - 2ms/step\n",
            "Epoch 55/100\n",
            "93/93 - 0s - loss: 0.0020 - 194ms/epoch - 2ms/step\n",
            "Epoch 56/100\n",
            "93/93 - 0s - loss: 0.0019 - 198ms/epoch - 2ms/step\n",
            "Epoch 57/100\n",
            "93/93 - 0s - loss: 0.0020 - 196ms/epoch - 2ms/step\n",
            "Epoch 58/100\n",
            "93/93 - 0s - loss: 0.0019 - 194ms/epoch - 2ms/step\n",
            "Epoch 59/100\n",
            "93/93 - 0s - loss: 0.0020 - 200ms/epoch - 2ms/step\n",
            "Epoch 60/100\n",
            "93/93 - 0s - loss: 0.0019 - 192ms/epoch - 2ms/step\n",
            "Epoch 61/100\n",
            "93/93 - 0s - loss: 0.0019 - 197ms/epoch - 2ms/step\n",
            "Epoch 62/100\n",
            "93/93 - 0s - loss: 0.0020 - 205ms/epoch - 2ms/step\n",
            "Epoch 63/100\n",
            "93/93 - 0s - loss: 0.0020 - 200ms/epoch - 2ms/step\n",
            "Epoch 64/100\n",
            "93/93 - 0s - loss: 0.0019 - 194ms/epoch - 2ms/step\n",
            "Epoch 65/100\n",
            "93/93 - 0s - loss: 0.0019 - 197ms/epoch - 2ms/step\n",
            "Epoch 66/100\n",
            "93/93 - 0s - loss: 0.0019 - 189ms/epoch - 2ms/step\n",
            "Epoch 67/100\n",
            "93/93 - 0s - loss: 0.0019 - 206ms/epoch - 2ms/step\n",
            "Epoch 68/100\n",
            "93/93 - 0s - loss: 0.0020 - 193ms/epoch - 2ms/step\n",
            "Epoch 69/100\n",
            "93/93 - 0s - loss: 0.0020 - 204ms/epoch - 2ms/step\n",
            "Epoch 70/100\n",
            "93/93 - 0s - loss: 0.0020 - 197ms/epoch - 2ms/step\n",
            "Epoch 71/100\n",
            "93/93 - 0s - loss: 0.0020 - 205ms/epoch - 2ms/step\n",
            "Epoch 72/100\n",
            "93/93 - 0s - loss: 0.0019 - 204ms/epoch - 2ms/step\n",
            "Epoch 73/100\n",
            "93/93 - 0s - loss: 0.0020 - 196ms/epoch - 2ms/step\n",
            "Epoch 74/100\n",
            "93/93 - 0s - loss: 0.0020 - 201ms/epoch - 2ms/step\n",
            "Epoch 75/100\n",
            "93/93 - 0s - loss: 0.0019 - 202ms/epoch - 2ms/step\n",
            "Epoch 76/100\n",
            "93/93 - 0s - loss: 0.0021 - 194ms/epoch - 2ms/step\n",
            "Epoch 77/100\n",
            "93/93 - 0s - loss: 0.0019 - 211ms/epoch - 2ms/step\n",
            "Epoch 78/100\n",
            "93/93 - 0s - loss: 0.0019 - 190ms/epoch - 2ms/step\n",
            "Epoch 79/100\n",
            "93/93 - 0s - loss: 0.0020 - 201ms/epoch - 2ms/step\n",
            "Epoch 80/100\n",
            "93/93 - 0s - loss: 0.0019 - 188ms/epoch - 2ms/step\n",
            "Epoch 81/100\n",
            "93/93 - 0s - loss: 0.0020 - 191ms/epoch - 2ms/step\n",
            "Epoch 82/100\n",
            "93/93 - 0s - loss: 0.0019 - 197ms/epoch - 2ms/step\n",
            "Epoch 83/100\n",
            "93/93 - 0s - loss: 0.0020 - 202ms/epoch - 2ms/step\n",
            "Epoch 84/100\n",
            "93/93 - 0s - loss: 0.0020 - 197ms/epoch - 2ms/step\n",
            "Epoch 85/100\n",
            "93/93 - 0s - loss: 0.0019 - 193ms/epoch - 2ms/step\n",
            "Epoch 86/100\n",
            "93/93 - 0s - loss: 0.0019 - 189ms/epoch - 2ms/step\n",
            "Epoch 87/100\n",
            "93/93 - 0s - loss: 0.0020 - 193ms/epoch - 2ms/step\n",
            "Epoch 88/100\n",
            "93/93 - 0s - loss: 0.0019 - 201ms/epoch - 2ms/step\n",
            "Epoch 89/100\n",
            "93/93 - 0s - loss: 0.0020 - 193ms/epoch - 2ms/step\n",
            "Epoch 90/100\n",
            "93/93 - 0s - loss: 0.0020 - 193ms/epoch - 2ms/step\n",
            "Epoch 91/100\n",
            "93/93 - 0s - loss: 0.0019 - 188ms/epoch - 2ms/step\n",
            "Epoch 92/100\n",
            "93/93 - 0s - loss: 0.0020 - 195ms/epoch - 2ms/step\n",
            "Epoch 93/100\n",
            "93/93 - 0s - loss: 0.0020 - 204ms/epoch - 2ms/step\n",
            "Epoch 94/100\n",
            "93/93 - 0s - loss: 0.0019 - 188ms/epoch - 2ms/step\n",
            "Epoch 95/100\n",
            "93/93 - 0s - loss: 0.0019 - 197ms/epoch - 2ms/step\n",
            "Epoch 96/100\n",
            "93/93 - 0s - loss: 0.0019 - 191ms/epoch - 2ms/step\n",
            "Epoch 97/100\n",
            "93/93 - 0s - loss: 0.0020 - 194ms/epoch - 2ms/step\n",
            "Epoch 98/100\n",
            "93/93 - 0s - loss: 0.0020 - 201ms/epoch - 2ms/step\n",
            "Epoch 99/100\n",
            "93/93 - 0s - loss: 0.0020 - 192ms/epoch - 2ms/step\n",
            "Epoch 100/100\n",
            "93/93 - 0s - loss: 0.0019 - 194ms/epoch - 2ms/step\n"
          ]
        },
        {
          "output_type": "execute_result",
          "data": {
            "text/plain": [
              "<keras.callbacks.History at 0x7f284032a750>"
            ]
          },
          "metadata": {},
          "execution_count": 17
        }
      ],
      "source": [
        "model = Sequential()\n",
        "model.add(LSTM(4, input_shape=(1, look_back)))\n",
        "model.add(Dense(1))\n",
        "model.compile(loss='mean_squared_error', optimizer='adam')\n",
        "model.fit(trainX, trainY, epochs=100, batch_size=1, verbose=2)"
      ]
    },
    {
      "cell_type": "markdown",
      "source": [
        "## evaluate the results"
      ],
      "metadata": {
        "id": "vVlgyCPUqkhi"
      }
    },
    {
      "cell_type": "code",
      "execution_count": 18,
      "metadata": {
        "colab": {
          "base_uri": "https://localhost:8080/"
        },
        "id": "SxmxzatqFyTm",
        "outputId": "191b6ac7-2eb1-42c6-9196-8d4921364e37"
      },
      "outputs": [
        {
          "output_type": "stream",
          "name": "stdout",
          "text": [
            "Train Score: 22.53 RMSE\n",
            "Test Score: 54.13 RMSE\n"
          ]
        }
      ],
      "source": [
        "# make predictions\n",
        "trainPredict = model.predict(trainX)\n",
        "testPredict = model.predict(testX)\n",
        "# invert predictions\n",
        "trainPredict = scaler.inverse_transform(trainPredict)\n",
        "trainY = scaler.inverse_transform([trainY])\n",
        "testPredict = scaler.inverse_transform(testPredict)\n",
        "testY = scaler.inverse_transform([testY])\n",
        "# calculate root mean squared error\n",
        "trainScore = math.sqrt(mean_squared_error(trainY[0], trainPredict[:,0]))\n",
        "print('Train Score: %.2f RMSE' % (trainScore))\n",
        "testScore = math.sqrt(mean_squared_error(testY[0], testPredict[:,0]))\n",
        "print('Test Score: %.2f RMSE' % (testScore))\n"
      ]
    },
    {
      "cell_type": "code",
      "execution_count": 19,
      "metadata": {
        "colab": {
          "base_uri": "https://localhost:8080/"
        },
        "id": "g3EJtbvlFyTm",
        "outputId": "627b16de-a535-43e4-96f4-acb5b89e6f8f"
      },
      "outputs": [
        {
          "output_type": "execute_result",
          "data": {
            "text/plain": [
              "46"
            ]
          },
          "metadata": {},
          "execution_count": 19
        }
      ],
      "source": [
        "testX.shape[0]"
      ]
    },
    {
      "cell_type": "markdown",
      "source": [
        "## visualize the results"
      ],
      "metadata": {
        "id": "XBxaBupiqp-C"
      }
    },
    {
      "cell_type": "code",
      "execution_count": 20,
      "metadata": {
        "colab": {
          "base_uri": "https://localhost:8080/",
          "height": 265
        },
        "id": "I6Ki9fViFyTn",
        "outputId": "21f63457-153f-4e28-ff0a-647e5d7498c2"
      },
      "outputs": [
        {
          "output_type": "display_data",
          "data": {
            "image/png": "[encoded data removed]",
            "text/plain": [
              "<Figure size 432x288 with 1 Axes>"
            ]
          },
          "metadata": {
            "needs_background": "light"
          }
        }
      ],
      "source": [
        "# shift train predictions for plotting\n",
        "trainPredictPlot = numpy.empty_like(dataset)\n",
        "trainPredictPlot[:, :] = numpy.nan\n",
        "trainPredictPlot[look_back:len(trainPredict)+look_back, :] = trainPredict\n",
        "# shift test predictions for plotting\n",
        "testPredictPlot = numpy.empty_like(dataset)\n",
        "testPredictPlot[:, :] = numpy.nan\n",
        "testPredictPlot[len(trainPredict)+(look_back*2)+1:len(dataset)-1, :] = testPredict\n",
        "# plot baseline and predictions\n",
        "plt.plot(scaler.inverse_transform(dataset))\n",
        "plt.plot(trainPredictPlot)\n",
        "plt.plot(testPredictPlot)\n",
        "plt.show()"
      ]
    }
  ],
  "metadata": {
    "kernelspec": {
      "display_name": "Python 3",
      "language": "python",
      "name": "python3"
    },
    "language_info": {
      "codemirror_mode": {
        "name": "ipython",
        "version": 3
      },
      "file_extension": ".py",
      "mimetype": "text/x-python",
      "name": "python",
      "nbconvert_exporter": "python",
      "pygments_lexer": "ipython3",
      "version": "3.7.1"
    },
    "colab": {
      "name": "LSTM-Air passengers time series forecasting.ipynb",
      "provenance": [],
      "collapsed_sections": []
    },
    "accelerator": "GPU"
  },
  "nbformat": 4,
  "nbformat_minor": 0
}